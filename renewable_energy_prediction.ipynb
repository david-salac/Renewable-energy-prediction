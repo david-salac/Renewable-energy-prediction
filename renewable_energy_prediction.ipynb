{
 "cells": [
  {
   "cell_type": "markdown",
   "metadata": {},
   "source": [
    "# Renewable energy prediction\n",
    "Helpful notebook for the prediction of energy from renewable resources.\n",
    "\n",
    "Author: David Salac <http://www.github.com/david-salac>"
   ]
  },
  {
   "cell_type": "markdown",
   "metadata": {},
   "source": [
    "## Solar photovoltaic power plants prediction\n",
    "There are many ways how to predict the production of photovoltaic installations. The represented one uses the PVLIB library (that is publicly available under a commercially friendly license).\n",
    "\n",
    "### What are the inputs\n",
    "The list of inputs follows. The vendor provides some of them, some of them are dependant on location of installation, and remaining are dependant on the time of prediction.\n",
    "\n",
    "#### Environmental variables\n",
    "Weather conditions and current time define them.\n",
    "\n",
    "1. _E<sub>GHI</sub>_: acronym of the Global Horizontal Irradiance, units: W⋅m<sup>-2</sup>\n",
    "\n",
    "2. _T_: temperature, units: &deg;C\n",
    "\n",
    "3. _R_: ground albedo (reflectance of the ground around), units: unitless (value from 0 to 1)\n",
    "\n",
    "4. _t_: calendar time with precision up to seconds, typically in UTC timezone.\n",
    "\n",
    "#### Installation dependant parameters\n",
    "Positional (depends on spatial solution):\n",
    "\n",
    "1. _A<sub>t</sub>_: tilt angle, units: degree (&deg;)\n",
    "\n",
    "2. _A<sub>a</sub>_: azimuth angle, units: degree (&deg;)\n",
    "\n",
    "3. _P<sub>lon, lat</sub>_: longitude and latitude of the location, units: degree (&deg;)\n",
    "\n",
    "Defined by vendor:\n",
    "\n",
    "1. _G<sub>s</sub>_: linear coefficient of efficiency decrease when 1&deg;C temperature increase happens, units: percent (&percnt;)\n",
    "\n",
    "2. _T<sub>opt</sub>_: operational temerature of installation, units: &deg;C\n",
    "\n",
    "3. _E<sub>stc</sub>_: standard irradiance, units: W⋅m<sup>-2</sup>.\n",
    "\n",
    "4. _T<sub>stc</sub>_: standard temperature, units: &deg;C.\n",
    "\n",
    "### Prediction logic\n",
    "How the prediction works is presented in the following example:"
   ]
  },
  {
   "cell_type": "code",
   "execution_count": null,
   "metadata": {},
   "outputs": [],
   "source": [
    "# =============================================================================\n",
    "from typing import Tuple\n",
    "from datetime import datetime\n",
    "\n",
    "import pvlib\n",
    "\n",
    "def solar(\n",
    "    ghi: float, T: float, R: float, t: datetime, *, \n",
    "    A_t: float, A_a: float, P_lon_lat: Tuple[float, float],\n",
    "    G_s: float, T_opt: float, E_stc: float, T_stc: float\n",
    "):\n",
    "    pass\n"
   ]
  },
  {
   "cell_type": "code",
   "execution_count": null,
   "metadata": {},
   "outputs": [],
   "source": []
  }
 ],
 "metadata": {
  "kernelspec": {
   "display_name": "Python 3",
   "language": "python",
   "name": "python3"
  },
  "language_info": {
   "codemirror_mode": {
    "name": "ipython",
    "version": 3
   },
   "file_extension": ".py",
   "mimetype": "text/x-python",
   "name": "python",
   "nbconvert_exporter": "python",
   "pygments_lexer": "ipython3",
   "version": "3.6.9"
  }
 },
 "nbformat": 4,
 "nbformat_minor": 2
}
